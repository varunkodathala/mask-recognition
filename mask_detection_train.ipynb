{
 "cells": [
  {
   "cell_type": "code",
   "execution_count": 1,
   "metadata": {},
   "outputs": [
    {
     "name": "stderr",
     "output_type": "stream",
     "text": [
      "Using TensorFlow backend.\n"
     ]
    }
   ],
   "source": [
    "import keras\n",
    "from keras.preprocessing.image import ImageDataGenerator\n",
    "from keras.models import Sequential\n",
    "from keras.layers import Dense,Dropout,Activation,Flatten,BatchNormalization\n",
    "from keras.layers import Conv2D,MaxPooling2D\n",
    "import os"
   ]
  },
  {
   "cell_type": "code",
   "execution_count": 9,
   "metadata": {},
   "outputs": [],
   "source": [
    "num_classes = 2\n",
    "img_rows,img_cols = 45,45\n",
    "batch_size = 64"
   ]
  },
  {
   "cell_type": "code",
   "execution_count": 3,
   "metadata": {},
   "outputs": [],
   "source": [
    "train_data_dir = '/Users/varun/Documents/Deep_Learning/mask_detection/experiements/dest_folder/train'"
   ]
  },
  {
   "cell_type": "code",
   "execution_count": 4,
   "metadata": {},
   "outputs": [],
   "source": [
    "train_datagen = ImageDataGenerator(rescale = 1./255, validation_split = 0.2)\n"
   ]
  },
  {
   "cell_type": "code",
   "execution_count": 74,
   "metadata": {},
   "outputs": [
    {
     "name": "stdout",
     "output_type": "stream",
     "text": [
      "Found 2254 images belonging to 2 classes.\n",
      "Found 563 images belonging to 2 classes.\n"
     ]
    }
   ],
   "source": [
    "train_generator = train_datagen.flow_from_directory(\n",
    "\t\t\t\t\ttrain_data_dir,\n",
    "\t\t\t\t\ttarget_size=(img_rows,img_cols),\n",
    "\t\t\t\t\tclass_mode='categorical',\n",
    "                    batch_size = batch_size,\n",
    "\t\t\t\t\tshuffle=False,\n",
    "                    subset = 'training')\n",
    "\n",
    "validation_generator = train_datagen.flow_from_directory(\n",
    "\t\t\t\t\ttrain_data_dir,\n",
    "\t\t\t\t\ttarget_size=(img_rows,img_cols),\n",
    "\t\t\t\t\tclass_mode='categorical',\n",
    "                    batch_size = batch_size,\n",
    "\t\t\t\t\tshuffle=False,\n",
    "                    subset = 'validation')\n",
    "\n"
   ]
  },
  {
   "cell_type": "code",
   "execution_count": 75,
   "metadata": {},
   "outputs": [
    {
     "name": "stdout",
     "output_type": "stream",
     "text": [
      "Model: \"sequential_5\"\n",
      "_________________________________________________________________\n",
      "Layer (type)                 Output Shape              Param #   \n",
      "=================================================================\n",
      "conv2d_33 (Conv2D)           (None, 45, 45, 32)        896       \n",
      "_________________________________________________________________\n",
      "activation_49 (Activation)   (None, 45, 45, 32)        0         \n",
      "_________________________________________________________________\n",
      "conv2d_34 (Conv2D)           (None, 45, 45, 32)        9248      \n",
      "_________________________________________________________________\n",
      "activation_50 (Activation)   (None, 45, 45, 32)        0         \n",
      "_________________________________________________________________\n",
      "max_pooling2d_17 (MaxPooling (None, 22, 22, 32)        0         \n",
      "_________________________________________________________________\n",
      "conv2d_35 (Conv2D)           (None, 22, 22, 64)        18496     \n",
      "_________________________________________________________________\n",
      "activation_51 (Activation)   (None, 22, 22, 64)        0         \n",
      "_________________________________________________________________\n",
      "conv2d_36 (Conv2D)           (None, 22, 22, 64)        36928     \n",
      "_________________________________________________________________\n",
      "activation_52 (Activation)   (None, 22, 22, 64)        0         \n",
      "_________________________________________________________________\n",
      "max_pooling2d_18 (MaxPooling (None, 11, 11, 64)        0         \n",
      "_________________________________________________________________\n",
      "conv2d_37 (Conv2D)           (None, 11, 11, 128)       73856     \n",
      "_________________________________________________________________\n",
      "activation_53 (Activation)   (None, 11, 11, 128)       0         \n",
      "_________________________________________________________________\n",
      "conv2d_38 (Conv2D)           (None, 11, 11, 128)       147584    \n",
      "_________________________________________________________________\n",
      "activation_54 (Activation)   (None, 11, 11, 128)       0         \n",
      "_________________________________________________________________\n",
      "max_pooling2d_19 (MaxPooling (None, 5, 5, 128)         0         \n",
      "_________________________________________________________________\n",
      "conv2d_39 (Conv2D)           (None, 5, 5, 256)         295168    \n",
      "_________________________________________________________________\n",
      "activation_55 (Activation)   (None, 5, 5, 256)         0         \n",
      "_________________________________________________________________\n",
      "conv2d_40 (Conv2D)           (None, 5, 5, 256)         590080    \n",
      "_________________________________________________________________\n",
      "activation_56 (Activation)   (None, 5, 5, 256)         0         \n",
      "_________________________________________________________________\n",
      "max_pooling2d_20 (MaxPooling (None, 2, 2, 256)         0         \n",
      "_________________________________________________________________\n",
      "flatten_5 (Flatten)          (None, 1024)              0         \n",
      "_________________________________________________________________\n",
      "dense_17 (Dense)             (None, 64)                65600     \n",
      "_________________________________________________________________\n",
      "activation_57 (Activation)   (None, 64)                0         \n",
      "_________________________________________________________________\n",
      "dense_18 (Dense)             (None, 64)                4160      \n",
      "_________________________________________________________________\n",
      "activation_58 (Activation)   (None, 64)                0         \n",
      "_________________________________________________________________\n",
      "dense_19 (Dense)             (None, 64)                4160      \n",
      "_________________________________________________________________\n",
      "activation_59 (Activation)   (None, 64)                0         \n",
      "_________________________________________________________________\n",
      "dense_20 (Dense)             (None, 2)                 130       \n",
      "_________________________________________________________________\n",
      "activation_60 (Activation)   (None, 2)                 0         \n",
      "=================================================================\n",
      "Total params: 1,246,306\n",
      "Trainable params: 1,246,306\n",
      "Non-trainable params: 0\n",
      "_________________________________________________________________\n"
     ]
    }
   ],
   "source": [
    "model = Sequential()\n",
    "\n",
    "model.add(Conv2D(32,(3,3),padding='same',kernel_initializer='he_normal',input_shape=(img_rows,img_cols,3)))\n",
    "model.add(Activation('relu'))\n",
    "model.add(Conv2D(32,(3,3),padding='same',kernel_initializer='he_normal',input_shape=(img_rows,img_cols,3)))\n",
    "model.add(Activation('relu'))\n",
    "model.add(MaxPooling2D(pool_size=(2,2)))\n",
    "\n",
    "model.add(Conv2D(64,(3,3),padding='same',kernel_initializer='he_normal'))\n",
    "model.add(Activation('relu'))\n",
    "model.add(Conv2D(64,(3,3),padding='same',kernel_initializer='he_normal'))\n",
    "model.add(Activation('relu'))\n",
    "model.add(MaxPooling2D(pool_size=(2,2)))\n",
    "\n",
    "model.add(Conv2D(128,(3,3),padding='same',kernel_initializer='he_normal'))\n",
    "model.add(Activation('relu'))\n",
    "model.add(Conv2D(128,(3,3),padding='same',kernel_initializer='he_normal'))\n",
    "model.add(Activation('relu'))\n",
    "model.add(MaxPooling2D(pool_size=(2,2)))\n",
    "\n",
    "model.add(Conv2D(256,(3,3),padding='same',kernel_initializer='he_normal'))\n",
    "model.add(Activation('relu'))\n",
    "model.add(Conv2D(256,(3,3),padding='same',kernel_initializer='he_normal'))\n",
    "model.add(Activation('relu'))\n",
    "model.add(MaxPooling2D(pool_size=(2,2)))\n",
    "\n",
    "model.add(Flatten())\n",
    "model.add(Dense(64,kernel_initializer='he_normal'))\n",
    "model.add(Activation('relu'))\n",
    "\n",
    "model.add(Dense(64,kernel_initializer='he_normal'))\n",
    "model.add(Activation('relu'))\n",
    "\n",
    "model.add(Dense(64,kernel_initializer='he_normal'))\n",
    "model.add(Activation('relu'))\n",
    "\n",
    "model.add(Dense(2,kernel_initializer='he_normal'))\n",
    "model.add(Activation('softmax'))\n",
    "\n",
    "model.summary()"
   ]
  },
  {
   "cell_type": "code",
   "execution_count": 76,
   "metadata": {},
   "outputs": [],
   "source": [
    "from keras.optimizers import RMSprop\n",
    "\n",
    "model.compile(loss='categorical_crossentropy',\n",
    "              optimizer = RMSprop(lr=0.001),\n",
    "              metrics=['accuracy'])"
   ]
  },
  {
   "cell_type": "code",
   "execution_count": 77,
   "metadata": {},
   "outputs": [
    {
     "name": "stdout",
     "output_type": "stream",
     "text": [
      "Epoch 1/5\n",
      "35/35 [==============================] - 29s 828ms/step - loss: 7.6679 - accuracy: 0.7443 - val_loss: 9.6030 - val_accuracy: 0.8320\n",
      "Epoch 2/5\n",
      "35/35 [==============================] - 28s 793ms/step - loss: 1.3444 - accuracy: 0.7155 - val_loss: 0.6864 - val_accuracy: 0.8878\n",
      "Epoch 3/5\n",
      "35/35 [==============================] - 28s 803ms/step - loss: 1.2592 - accuracy: 0.8128 - val_loss: 0.6192 - val_accuracy: 0.7695\n",
      "Epoch 4/5\n",
      "35/35 [==============================] - 28s 794ms/step - loss: 0.8619 - accuracy: 0.7096 - val_loss: 0.0247 - val_accuracy: 0.7255\n",
      "Epoch 5/5\n",
      "35/35 [==============================] - 28s 813ms/step - loss: 1.0308 - accuracy: 0.7326 - val_loss: 0.5276 - val_accuracy: 0.7255\n"
     ]
    }
   ],
   "source": [
    "nb_train_samples = train_generator.samples\n",
    "nb_validation_samples = validation_generator.samples\n",
    "epochs=5\n",
    "\n",
    "history=model.fit_generator(\n",
    "                train_generator,\n",
    "                steps_per_epoch=nb_train_samples//batch_size,\n",
    "                epochs=epochs,\n",
    "                validation_data = validation_generator,\n",
    "                validation_steps = nb_validation_samples//batch_size)"
   ]
  },
  {
   "cell_type": "code",
   "execution_count": 78,
   "metadata": {},
   "outputs": [
    {
     "name": "stdout",
     "output_type": "stream",
     "text": [
      "Epoch 1/5\n",
      "35/35 [==============================] - 28s 811ms/step - loss: 0.8537 - accuracy: 0.7598 - val_loss: 0.9218 - val_accuracy: 0.8809\n",
      "Epoch 2/5\n",
      "35/35 [==============================] - 28s 809ms/step - loss: 0.6266 - accuracy: 0.8087 - val_loss: 0.3440 - val_accuracy: 0.9038\n",
      "Epoch 3/5\n",
      "35/35 [==============================] - 28s 801ms/step - loss: 0.6326 - accuracy: 0.8571 - val_loss: 0.1418 - val_accuracy: 0.9359\n",
      "Epoch 4/5\n",
      "35/35 [==============================] - 28s 798ms/step - loss: 0.2645 - accuracy: 0.8973 - val_loss: 0.2453 - val_accuracy: 0.8978\n",
      "Epoch 5/5\n",
      "35/35 [==============================] - 28s 808ms/step - loss: 0.3950 - accuracy: 0.8886 - val_loss: 0.2261 - val_accuracy: 0.9018\n"
     ]
    }
   ],
   "source": [
    "history=model.fit_generator(\n",
    "                train_generator,\n",
    "                steps_per_epoch=nb_train_samples//batch_size,\n",
    "                epochs=epochs,\n",
    "                validation_data = validation_generator,\n",
    "                validation_steps = nb_validation_samples//batch_size)"
   ]
  },
  {
   "cell_type": "code",
   "execution_count": 79,
   "metadata": {},
   "outputs": [
    {
     "name": "stdout",
     "output_type": "stream",
     "text": [
      "Epoch 1/3\n",
      "35/35 [==============================] - 28s 803ms/step - loss: 0.2360 - accuracy: 0.9091 - val_loss: 0.2586 - val_accuracy: 0.9609\n",
      "Epoch 2/3\n",
      "35/35 [==============================] - 28s 802ms/step - loss: 0.1643 - accuracy: 0.9297 - val_loss: 0.3373 - val_accuracy: 0.9579\n",
      "Epoch 3/3\n",
      "35/35 [==============================] - 28s 809ms/step - loss: 0.9216 - accuracy: 0.9320 - val_loss: 0.2405 - val_accuracy: 0.9499\n"
     ]
    }
   ],
   "source": [
    " history=model.fit_generator(\n",
    "                train_generator,\n",
    "                steps_per_epoch=nb_train_samples//batch_size,\n",
    "                epochs=3,\n",
    "                validation_data = validation_generator,\n",
    "                validation_steps = nb_validation_samples//batch_size)"
   ]
  },
  {
   "cell_type": "code",
   "execution_count": 80,
   "metadata": {},
   "outputs": [
    {
     "name": "stdout",
     "output_type": "stream",
     "text": [
      "Epoch 1/3\n",
      "35/35 [==============================] - 30s 867ms/step - loss: 0.2187 - accuracy: 0.9420 - val_loss: 7.7638 - val_accuracy: 0.8438\n",
      "Epoch 2/3\n",
      "35/35 [==============================] - 27s 783ms/step - loss: 0.3784 - accuracy: 0.9509 - val_loss: 0.1473 - val_accuracy: 0.9760\n",
      "Epoch 3/3\n",
      "35/35 [==============================] - 28s 802ms/step - loss: 0.1183 - accuracy: 0.9621 - val_loss: 0.0928 - val_accuracy: 0.9619\n"
     ]
    }
   ],
   "source": [
    " history=model.fit_generator(\n",
    "                train_generator,\n",
    "                steps_per_epoch=nb_train_samples//batch_size,\n",
    "                epochs=3,\n",
    "                validation_data = validation_generator,\n",
    "                validation_steps = nb_validation_samples//batch_size)"
   ]
  },
  {
   "cell_type": "code",
   "execution_count": 105,
   "metadata": {},
   "outputs": [],
   "source": [
    "model.save('mask_detection.h5')"
   ]
  },
  {
   "cell_type": "code",
   "execution_count": 15,
   "metadata": {},
   "outputs": [],
   "source": [
    "import cv2\n",
    "import numpy as np"
   ]
  },
  {
   "cell_type": "code",
   "execution_count": 104,
   "metadata": {},
   "outputs": [
    {
     "data": {
      "text/plain": [
       "array([[0.0342889, 0.9657111]], dtype=float32)"
      ]
     },
     "execution_count": 104,
     "metadata": {},
     "output_type": "execute_result"
    }
   ],
   "source": [
    "im = cv2.imread('14.jpg')\n",
    "im = cv2.resize(im,(45,45))\n",
    "im = im/255\n",
    "im = np.expand_dims(im,axis = 0)\n",
    "model.predict(im)"
   ]
  },
  {
   "cell_type": "code",
   "execution_count": 108,
   "metadata": {},
   "outputs": [],
   "source": [
    "import matplotlib.pyplot as plt"
   ]
  },
  {
   "cell_type": "code",
   "execution_count": 111,
   "metadata": {},
   "outputs": [
    {
     "data": {
      "text/plain": [
       "[<matplotlib.lines.Line2D at 0x14521d128>]"
      ]
     },
     "execution_count": 111,
     "metadata": {},
     "output_type": "execute_result"
    },
    {
     "data": {
      "image/png": "[encoded data removed]",
      "text/plain": [
       "<Figure size 432x288 with 1 Axes>"
      ]
     },
     "metadata": {
      "needs_background": "light"
     },
     "output_type": "display_data"
    },
    {
     "data": {
      "image/png": "[encoded data removed]",
      "text/plain": [
       "<Figure size 432x288 with 1 Axes>"
      ]
     },
     "metadata": {
      "needs_background": "light"
     },
     "output_type": "display_data"
    }
   ],
   "source": [
    "acc = history.history['accuracy']\n",
    "val_acc = history.history['val_accuracy']\n",
    "plt.figure()\n",
    "plt.plot(acc)\n",
    "plt.figure()\n",
    "plt.plot(val_acc)"
   ]
  },
  {
   "cell_type": "code",
   "execution_count": 112,
   "metadata": {},
   "outputs": [
    {
     "data": {
      "text/plain": [
       "[<matplotlib.lines.Line2D at 0x1453b5400>]"
      ]
     },
     "execution_count": 112,
     "metadata": {},
     "output_type": "execute_result"
    },
    {
     "data": {
      "image/png": "[encoded data removed]",
      "text/plain": [
       "<Figure size 432x288 with 1 Axes>"
      ]
     },
     "metadata": {
      "needs_background": "light"
     },
     "output_type": "display_data"
    },
    {
     "data": {
      "image/png": "[encoded data removed]",
      "text/plain": [
       "<Figure size 432x288 with 1 Axes>"
      ]
     },
     "metadata": {
      "needs_background": "light"
     },
     "output_type": "display_data"
    }
   ],
   "source": [
    "acc = history.history['loss']\n",
    "val_acc = history.history['val_loss']\n",
    "plt.figure()\n",
    "plt.plot(acc)\n",
    "plt.figure()\n",
    "plt.plot(val_acc)"
   ]
  },
  {
   "cell_type": "code",
   "execution_count": null,
   "metadata": {},
   "outputs": [],
   "source": []
  }
 ],
 "metadata": {
  "kernelspec": {
   "display_name": "Python 3",
   "language": "python",
   "name": "python3"
  },
  "language_info": {
   "codemirror_mode": {
    "name": "ipython",
    "version": 3
   },
   "file_extension": ".py",
   "mimetype": "text/x-python",
   "name": "python",
   "nbconvert_exporter": "python",
   "pygments_lexer": "ipython3",
   "version": "3.6.3"
  }
 },
 "nbformat": 4,
 "nbformat_minor": 4
}
